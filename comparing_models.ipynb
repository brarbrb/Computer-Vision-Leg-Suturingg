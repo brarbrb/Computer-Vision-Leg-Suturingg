{
 "cells": [
  {
   "cell_type": "markdown",
   "id": "e1eaac53",
   "metadata": {},
   "source": [
    "# Models comparisons:"
   ]
  },
  {
   "cell_type": "markdown",
   "id": "6d2e206c",
   "metadata": {},
   "source": [
    "## Loading the models:"
   ]
  },
  {
   "cell_type": "code",
   "execution_count": null,
   "id": "aca75f4e",
   "metadata": {
    "vscode": {
     "languageId": "plaintext"
    }
   },
   "outputs": [],
   "source": [
    "base_model_no_aug = YOLO(\"runs/detect/base_model/weights/best.pt\")"
   ]
  },
  {
   "cell_type": "code",
   "execution_count": null,
   "id": "4e1eeb97",
   "metadata": {
    "vscode": {
     "languageId": "plaintext"
    }
   },
   "outputs": [],
   "source": [
    "def plot_metric(run_name, metric_name):\n",
    "    path = f\"runs/detect/{run_name}/results.csv\"\n",
    "    df = pd.read_csv(path)\n",
    "    plt.plot(df[metric_name], label=run_name)\n",
    "\n",
    "plt.figure(figsize=(10, 6))\n",
    "for run in ['baseline', 'aug_flip', 'yolov9e_large']:\n",
    "    plot_metric(run, 'metrics/mAP_0.5')\n",
    "plt.legend()\n",
    "plt.title(\"Validation mAP@0.5 over epochs\")\n",
    "plt.xlabel(\"Epoch\")\n",
    "plt.ylabel(\"mAP@0.5\")\n",
    "plt.grid()\n",
    "plt.show()"
   ]
  },
  {
   "cell_type": "markdown",
   "id": "552ec6c6",
   "metadata": {},
   "source": [
    "## On vaidation dataset"
   ]
  },
  {
   "cell_type": "markdown",
   "id": "42a00c57",
   "metadata": {},
   "source": [
    "Looping through all images in validation set, drawing the boxes and saving them"
   ]
  },
  {
   "cell_type": "code",
   "execution_count": null,
   "id": "33784f53",
   "metadata": {
    "vscode": {
     "languageId": "plaintext"
    }
   },
   "outputs": [],
   "source": [
    "def draw_predicted_boxes(results, image):\n",
    "    for result in results:\n",
    "        boxes = result.boxes.xywh.cpu().numpy()\n",
    "        confs = result.boxes.conf.cpu().numpy()\n",
    "        class_ids = result.boxes.cls.cpu().numpy().astype(int)\n",
    "\n",
    "        for (x_c, y_c, bw, bh), conf, cls in zip(boxes, confs, class_ids):\n",
    "            x1 = int((x_c - bw / 2))\n",
    "            y1 = int((y_c - bh / 2))\n",
    "            x2 = int((x_c + bw / 2))\n",
    "            y2 = int((y_c + bh / 2))\n",
    "\n",
    "            color = colors.get(cls, (255, 255, 255))\n",
    "            cv2.rectangle(image, (x1, y1), (x2, y2), color, 2)\n",
    "\n",
    "            label = f\"{categories.get(cls, 'Unknown')} {conf:.2f}\"\n",
    "            cv2.putText(image, label, (x1, y1 - 5), cv2.FONT_HERSHEY_SIMPLEX, 0.5, color, 1)\n",
    "    return image"
   ]
  },
  {
   "cell_type": "code",
   "execution_count": null,
   "id": "b8c98d2f",
   "metadata": {
    "vscode": {
     "languageId": "plaintext"
    }
   },
   "outputs": [],
   "source": [
    "image_files = [f for f in os.listdir(imgs_val_dir) if f.lower().endswith(('.jpg', '.png', '.jpeg'))]\n",
    "\n",
    "for image_file in image_files:\n",
    "    image_path = os.path.join(imgs_val_dir, image_file)\n",
    "    results = base_model_no_aug.predict(source=image_path, conf=0.3)\n",
    "    image = cv2.imread(image_path) # original image\n",
    "    image = cv2.cvtColor(image, cv2.COLOR_BGR2RGB)\n",
    "    h, w, _ = image.shape\n",
    "    \n",
    "    image = draw_predicted_boxes(results, image)\n",
    "            \n",
    "    # Saving the img\n",
    "    cv2.imwrite(f\"models_predictions/base_model_no_aug/\" + image_file,\n",
    "                cv2.cvtColor(image, cv2.COLOR_RGB2BGR))\n",
    "    \n",
    "    # Show image - doesn't work on ubuntu\n",
    "    # cv2.imshow(\"Prediction\", cv2.cvtColor(image, cv2.COLOR_RGB2BGR))\n",
    "    # cv2.waitKey(0)\n",
    "    # cv2.destroyAllWindows()"
   ]
  }
 ],
 "metadata": {
  "language_info": {
   "name": "python"
  }
 },
 "nbformat": 4,
 "nbformat_minor": 5
}
